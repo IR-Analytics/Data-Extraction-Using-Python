{
 "cells": [
  {
   "cell_type": "code",
   "execution_count": null,
   "id": "ad887c90-cfa2-4f75-85d5-94c528dd798f",
   "metadata": {
    "scrolled": true
   },
   "outputs": [],
   "source": [
    "from requests import Request, Session\n",
    "from requests.exceptions import ConnectionError, Timeout, TooManyRedirects\n",
    "import pandas as pd\n",
    "import seaborn as sns\n",
    "import matplotlib.pyplot as plt\n",
    "import json\n",
    "import os \n",
    "from time import time\n",
    "from time import sleep\n",
    "\n",
    "url = 'https://pro-api.coinmarketcap.com/v1/cryptocurrency/listings/latest'\n",
    "parameters = {\n",
    "  'start':'1',\n",
    "  'limit':'10',\n",
    "  'convert':'USD'\n",
    "}\n",
    "headers = {\n",
    "  'Accepts': 'application/json',\n",
    "  'X-CMC_PRO_API_KEY': '32b87023-5bb8-42e8-a360-972adc1ca1f7',\n",
    "}\n",
    "\n",
    "session = Session()\n",
    "session.headers.update(headers)\n",
    "\n",
    "try:\n",
    "  response = session.get(url, params=parameters)\n",
    "  data = json.loads(response.text)\n",
    "  #print(data)\n",
    "except (ConnectionError, Timeout, TooManyRedirects) as e:\n",
    "  print(e)\n"
   ]
  },
  {
   "cell_type": "code",
   "execution_count": null,
   "id": "d8be2d10-b3c9-4680-b7e5-1f7a6deaeaf4",
   "metadata": {},
   "outputs": [],
   "source": [
    "type(data)"
   ]
  },
  {
   "cell_type": "code",
   "execution_count": null,
   "id": "16a449a5-b628-4358-a9a0-a5ecadf69de7",
   "metadata": {},
   "outputs": [],
   "source": [
    "\n",
    "pd.set_option('display.max_columns', None)\n",
    "pd.set_option('display.max_rows', None)\n"
   ]
  },
  {
   "cell_type": "code",
   "execution_count": null,
   "id": "85155c7d-c27a-433d-8e16-3fd3926f4eec",
   "metadata": {
    "scrolled": true
   },
   "outputs": [],
   "source": [
    "\n",
    "df = pd.json_normalize(data['data'])\n",
    "df['timestamp'] = pd.to_datetime('now')\n",
    "df\n"
   ]
  },
  {
   "cell_type": "code",
   "execution_count": null,
   "id": "f356a967-6543-468d-882b-68ca331c09b0",
   "metadata": {},
   "outputs": [],
   "source": [
    "\n",
    "def api_runner():\n",
    "    global df\n",
    "    url = 'https://pro-api.coinmarketcap.com/v1/cryptocurrency/listings/latest'\n",
    "    parameters = {\n",
    "      'start':'1',\n",
    "      'limit':'10',\n",
    "      'convert':'USD'\n",
    "    }\n",
    "    headers = {\n",
    "      'Accepts': 'application/json',\n",
    "      'X-CMC_PRO_API_KEY': '32b87023-5bb8-42e8-a360-972adc1ca1f7',\n",
    "    }\n",
    "    \n",
    "    session = Session()\n",
    "    session.headers.update(headers)\n",
    "    \n",
    "    try:\n",
    "      response = session.get(url, params=parameters)\n",
    "      data = json.loads(response.text)\n",
    "      #print(data)\n",
    "    except (ConnectionError, Timeout, TooManyRedirects) as e:\n",
    "      print(e)\n",
    "\n",
    "    df2 = pd.json_normalize(data['data'])\n",
    "    df2['timestamp'] = pd.to_datetime('now')\n",
    "    df = pd.concat([df, df2], ignore_index=False)\n",
    "\n",
    "    # Use this if you want to create a csv and append data to it\n",
    "    # df = pd.json_normalize(data['data'])\n",
    "    # df['timestamp'] = pd.to_datetime('now')\n",
    "    # df\n",
    "\n",
    "    # if not os.path.isfile(r'C:\\Users\\HP\\OneDrive\\Documents\\Documents - Copy\\Data Analysis Projects\\Python Training\\API Training\\API.csv'):\n",
    "    #     df.to_csv(r'C:\\Users\\HP\\OneDrive\\Documents\\Documents - Copy\\Data Analysis Projects\\Python Training\\API Training\\API.csv', header='column_names')\n",
    "    # else:\n",
    "    #     df.to_csv(r'C:\\Users\\HP\\OneDrive\\Documents\\Documents - Copy\\Data Analysis Projects\\Python Training\\API Training\\API.csv', mode='a', header=False)\n",
    "        \n",
    "    #Then to read in the file: df = pd.read_csv(r'C:\\Users\\alexf\\OneDrive\\Documents\\Python Scripts\\API.csv')\n"
   ]
  },
  {
   "cell_type": "code",
   "execution_count": null,
   "id": "3ad4ec22-80d1-4316-b206-b88f16bfcc1b",
   "metadata": {
    "scrolled": true
   },
   "outputs": [],
   "source": [
    "\n",
    "for i in range(250):\n",
    "    api_runner()\n",
    "    print(\"API Runner Completed\")\n",
    "    sleep(60)\n",
    "exit()\n"
   ]
  },
  {
   "cell_type": "code",
   "execution_count": null,
   "id": "323a38fe-1530-4b4d-aa6e-a09cd209e979",
   "metadata": {
    "scrolled": true
   },
   "outputs": [],
   "source": [
    "df"
   ]
  },
  {
   "cell_type": "code",
   "execution_count": null,
   "id": "698695a0-00a1-4936-827b-3a836678b871",
   "metadata": {},
   "outputs": [],
   "source": [
    "pd.set_option('display.float_format', lambda x: '%.2f' % x)"
   ]
  },
  {
   "cell_type": "code",
   "execution_count": null,
   "id": "d87fd7b3-ac1b-48b3-b852-de0be0fa92da",
   "metadata": {
    "scrolled": true
   },
   "outputs": [],
   "source": [
    "df"
   ]
  },
  {
   "cell_type": "code",
   "execution_count": null,
   "id": "7d2e2379-ce04-420a-a1d3-637ff628bc60",
   "metadata": {},
   "outputs": [],
   "source": [
    "\n",
    "df3 = df.groupby('name', sort=False)[['quote.USD.percent_change_1h','quote.USD.percent_change_24h','quote.USD.percent_change_7d','quote.USD.percent_change_30d','quote.USD.percent_change_60d','quote.USD.percent_change_90d']].mean()\n",
    "df3\n"
   ]
  },
  {
   "cell_type": "code",
   "execution_count": null,
   "id": "79402b96-4915-49bc-b054-87d5060f7121",
   "metadata": {
    "scrolled": true
   },
   "outputs": [],
   "source": [
    "\n",
    "df4 = df3.stack()\n",
    "df4\n"
   ]
  },
  {
   "cell_type": "code",
   "execution_count": null,
   "id": "6527acc4-cb1a-477a-ab5b-48182d178392",
   "metadata": {},
   "outputs": [],
   "source": [
    "type(df4)"
   ]
  },
  {
   "cell_type": "code",
   "execution_count": null,
   "id": "2f73f036-3d46-48a5-98c1-06a636d52064",
   "metadata": {
    "scrolled": true
   },
   "outputs": [],
   "source": [
    "df5 = df4.to_frame(name='values')\n",
    "df5"
   ]
  },
  {
   "cell_type": "code",
   "execution_count": null,
   "id": "53ada25e-32c7-454e-a38e-459a1d7c09b0",
   "metadata": {},
   "outputs": [],
   "source": [
    "df5.count()"
   ]
  },
  {
   "cell_type": "code",
   "execution_count": null,
   "id": "93c042e6-e04b-416e-ae2b-22dec355e362",
   "metadata": {
    "scrolled": true
   },
   "outputs": [],
   "source": [
    "\n",
    "index = pd.Index(range(60))\n",
    "\n",
    "#df6 = df5.set_index(index)\n",
    "df6 = df5.reset_index()\n",
    "df6\n"
   ]
  },
  {
   "cell_type": "code",
   "execution_count": null,
   "id": "37b63a4e-3ff6-49bc-9989-92e4ab7504e7",
   "metadata": {
    "scrolled": true
   },
   "outputs": [],
   "source": [
    "\n",
    "df7 = df6.rename(columns={'level_1': 'percent_change'})\n",
    "df7\n"
   ]
  },
  {
   "cell_type": "code",
   "execution_count": null,
   "id": "1ee60648-3d2b-4088-8f50-afdc76f37e7f",
   "metadata": {
    "scrolled": true
   },
   "outputs": [],
   "source": [
    "\n",
    "df7['percent_change'] = df7['percent_change'].replace(['quote.USD.percent_change_1h', 'quote.USD.percent_change_24h','quote.USD.percent_change_7d','quote.USD.percent_change_30d','quote.USD.percent_change_60d','quote.USD.percent_change_90d'],['1h','24h','7d','30d','60d','90d'])\n",
    "df7\n"
   ]
  },
  {
   "cell_type": "code",
   "execution_count": null,
   "id": "72f92c5d-74c5-46c5-88e0-7b7d076e3705",
   "metadata": {},
   "outputs": [],
   "source": [
    "\n",
    "plot = sns.catplot(x='percent_change', y='values', hue='name', data=df7, kind='point')\n",
    "plot.fig.set_size_inches(12, 6)  # width, height in inches\n",
    "plt.xlabel('Percent Change', fontsize=12)\n",
    "plt.ylabel('Values', fontsize=12)\n",
    "plt.show()\n"
   ]
  },
  {
   "cell_type": "code",
   "execution_count": null,
   "id": "0fd47df3-ff06-419f-beeb-8420a192d12c",
   "metadata": {},
   "outputs": [],
   "source": [
    "\n",
    "barchat = sns.catplot(x='percent_change', y='values', hue='name', data=df7, kind='bar')\n",
    "barchat.fig.set_size_inches(12, 6)\n",
    "\n",
    "plt.xlabel('Percent Change', fontsize=12)\n",
    "plt.ylabel('Values', fontsize=12)\n",
    "plt.show()\n"
   ]
  },
  {
   "cell_type": "code",
   "execution_count": null,
   "id": "0e14d35b-700e-431b-b493-00925b9bf5c3",
   "metadata": {},
   "outputs": [],
   "source": [
    "\n",
    "plt.figure(figsize=(12,6))\n",
    "sns.barplot(x='percent_change', y='values', data=df7)\n",
    "plt.xlabel('Percent Change', fontsize=12)\n",
    "plt.ylabel('Values', fontsize=12)\n",
    "plt.tight_layout()\n",
    "plt.show()\n"
   ]
  },
  {
   "cell_type": "code",
   "execution_count": null,
   "id": "7196da4f-81e2-4d15-a805-7872265666ac",
   "metadata": {},
   "outputs": [],
   "source": [
    "\n",
    "plt.figure(figsize=(12,6))\n",
    "sns.barplot(y='percent_change', x='values', data=df7)\n",
    "plt.ylabel('Percent Change', fontsize=12)\n",
    "plt.xlabel('Values', fontsize=12)\n",
    "plt.tight_layout()\n",
    "plt.show()\n"
   ]
  },
  {
   "cell_type": "code",
   "execution_count": null,
   "id": "7891344d-87d7-407e-916a-c4e75f3cd39d",
   "metadata": {},
   "outputs": [],
   "source": [
    "\n",
    "df_grouped = df7.groupby(['percent_change', 'name'])['values'].sum().unstack()\n",
    "df_grouped.plot(kind='bar', stacked=True, figsize=(12, 6))\n",
    "plt.xlabel('Percent Change')  # Optional\n",
    "plt.ylabel('Values')          # Optional\n",
    "plt.tight_layout()\n",
    "plt.show()\n"
   ]
  },
  {
   "cell_type": "code",
   "execution_count": null,
   "id": "7a340a28-8564-40e3-ba08-2cb34f5326af",
   "metadata": {},
   "outputs": [],
   "source": [
    "\n",
    "plt.figure(figsize=(12,6))\n",
    "sns.countplot(x='percent_change', data=df7)\n",
    "plt.xlabel('Percent Change', fontsize=12)\n",
    "plt.tight_layout()\n",
    "plt.show()\n"
   ]
  },
  {
   "cell_type": "code",
   "execution_count": null,
   "id": "6de70e98-958d-4510-9792-fb8884562bfd",
   "metadata": {},
   "outputs": [],
   "source": []
  },
  {
   "cell_type": "code",
   "execution_count": null,
   "id": "96ae4797-b5ac-4a10-9ce1-ddf9794d0e4e",
   "metadata": {},
   "outputs": [],
   "source": []
  }
 ],
 "metadata": {
  "kernelspec": {
   "display_name": "Python [conda env:base] *",
   "language": "python",
   "name": "conda-base-py"
  },
  "language_info": {
   "codemirror_mode": {
    "name": "ipython",
    "version": 3
   },
   "file_extension": ".py",
   "mimetype": "text/x-python",
   "name": "python",
   "nbconvert_exporter": "python",
   "pygments_lexer": "ipython3",
   "version": "3.12.7"
  }
 },
 "nbformat": 4,
 "nbformat_minor": 5
}
